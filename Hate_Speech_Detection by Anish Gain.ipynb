{
 "cells": [
  {
   "cell_type": "code",
   "execution_count": null,
   "id": "1ba7a831-32c3-4a33-8344-5eb39a67ffb0",
   "metadata": {},
   "outputs": [],
   "source": [
    "import pandas as pd\n",
    "import re\n",
    "import string\n",
    "import nltk\n",
    "from nltk.corpus import stopwords\n",
    "from nltk.stem import WordNetLemmatizer\n",
    "from sklearn.model_selection import train_test_split\n",
    "from sklearn.feature_extraction.text import TfidfVectorizer\n",
    "from sklearn.ensemble import RandomForestClassifier\n",
    "from sklearn.metrics import accuracy_score, classification_report\n",
    "from imblearn.over_sampling import SMOTE\n",
    "\n",
    "nltk.download('stopwords')\n",
    "nltk.download('wordnet')\n",
    "nltk.download('omw-1.4')\n",
    "\n",
    "stop_words = set(stopwords.words('english'))\n",
    "lemmatizer = WordNetLemmatizer()\n",
    "\n",
    "def clean_text(text):\n",
    "    if not isinstance(text, str):\n",
    "        return \"\"\n",
    "    text = text.lower()\n",
    "    text = re.sub(r'\\d+', '', text)\n",
    "    text = text.translate(str.maketrans('', '', string.punctuation))\n",
    "    words = text.split()\n",
    "    words = [lemmatizer.lemmatize(word) for word in words if word not in stop_words]\n",
    "    return \" \".join(words) if words else \"empty\"\n",
    "\n",
    "dataset = pd.read_csv(\"Hate_Speech_Detection_Dataset.csv\")\n",
    "dataset = dataset[['tweet', 'class']]\n",
    "dataset = dataset.dropna()\n",
    "dataset['clean_text'] = dataset['tweet'].apply(clean_text)\n",
    "dataset = dataset[dataset['clean_text'] != \"empty\"]\n",
    "\n",
    "X_train, X_test, y_train, y_test = train_test_split(dataset['clean_text'], dataset['class'], test_size=0.2, random_state=42, stratify=dataset['class'])\n",
    "\n",
    "vectorizer = TfidfVectorizer(max_features=5000)\n",
    "X_train_tfidf = vectorizer.fit_transform(X_train)\n",
    "X_test_tfidf = vectorizer.transform(X_test)\n",
    "\n",
    "smote = SMOTE()\n",
    "X_train_tfidf, y_train = smote.fit_resample(X_train_tfidf, y_train)\n",
    "\n",
    "model = RandomForestClassifier(n_estimators=200, random_state=42)\n",
    "model.fit(X_train_tfidf, y_train)\n",
    "\n",
    "y_pred = model.predict(X_test_tfidf)\n",
    "\n",
    "print(f\"Accuracy: {accuracy_score(y_test, y_pred):.2f}\")\n",
    "print(\"Classification Report:\")\n",
    "print(classification_report(y_test, y_pred))\n",
    "\n",
    "def detect_hate_speech(text):\n",
    "    processed_text = clean_text(text)\n",
    "    text_tfidf = vectorizer.transform([processed_text])\n",
    "    prediction = model.predict(text_tfidf)[0]\n",
    "    labels = {0: \"Hate Speech\", 1: \"Offensive Language\", 2: \"Not Offensive\"}\n",
    "    return labels[prediction]\n",
    "\n",
    "while True:\n",
    "    user_input = input(\"Enter a text (or type 'exit' to quit): \")\n",
    "    if user_input.lower() == 'exit':\n",
    "        break\n",
    "    print(\"Prediction:\", detect_hate_speech(user_input))\n"
   ]
  },
  {
   "cell_type": "code",
   "execution_count": null,
   "id": "0a642ff8-f7bf-49b0-9f7e-ae5809fe67ef",
   "metadata": {},
   "outputs": [],
   "source": [
    "dataset.isnull().sum()"
   ]
  },
  {
   "cell_type": "code",
   "execution_count": null,
   "id": "336d14ec-dba6-4926-99c2-c8932417277d",
   "metadata": {},
   "outputs": [],
   "source": [
    "dataset.info()"
   ]
  },
  {
   "cell_type": "code",
   "execution_count": null,
   "id": "17707863-3047-4426-80a1-6c1af3881698",
   "metadata": {},
   "outputs": [],
   "source": [
    "dataset.describe()\n"
   ]
  }
 ],
 "metadata": {
  "kernelspec": {
   "display_name": "Python 3 (ipykernel)",
   "language": "python",
   "name": "python3"
  },
  "language_info": {
   "codemirror_mode": {
    "name": "ipython",
    "version": 3
   },
   "file_extension": ".py",
   "mimetype": "text/x-python",
   "name": "python",
   "nbconvert_exporter": "python",
   "pygments_lexer": "ipython3",
   "version": "3.13.0"
  }
 },
 "nbformat": 4,
 "nbformat_minor": 5
}
